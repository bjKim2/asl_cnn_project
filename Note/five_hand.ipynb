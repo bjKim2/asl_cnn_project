{
 "cells": [
  {
   "cell_type": "code",
   "execution_count": 119,
   "metadata": {},
   "outputs": [],
   "source": [
    "from glob import glob\n",
    "from PIL import Image\n",
    "import matplotlib.pyplot as plt\n",
    "import numpy as np\n",
    "import cv2\n",
    "import os"
   ]
  },
  {
   "cell_type": "code",
   "execution_count": 120,
   "metadata": {},
   "outputs": [
    {
     "ename": "FileExistsError",
     "evalue": "[Errno 17] File exists: '../Data/rotationver'",
     "output_type": "error",
     "traceback": [
      "\u001b[0;31m---------------------------------------------------------------------------\u001b[0m",
      "\u001b[0;31mFileExistsError\u001b[0m                           Traceback (most recent call last)",
      "\u001b[1;32m/Users/kte/ktePy/Python_DL_pj/Note/five_hand.ipynb 셀 2\u001b[0m in \u001b[0;36m<cell line: 1>\u001b[0;34m()\u001b[0m\n\u001b[0;32m----> <a href='vscode-notebook-cell:/Users/kte/ktePy/Python_DL_pj/Note/five_hand.ipynb#ch0000003?line=0'>1</a>\u001b[0m os\u001b[39m.\u001b[39;49mmkdir(\u001b[39m\"\u001b[39;49m\u001b[39m../Data/rotationver\u001b[39;49m\u001b[39m\"\u001b[39;49m)\n",
      "\u001b[0;31mFileExistsError\u001b[0m: [Errno 17] File exists: '../Data/rotationver'"
     ]
    }
   ],
   "source": [
    "os.mkdir(\"../Data/rotationver\")"
   ]
  },
  {
   "cell_type": "code",
   "execution_count": 123,
   "metadata": {},
   "outputs": [
    {
     "name": "stderr",
     "output_type": "stream",
     "text": [
      "[ WARN:0@20441.846] global /Users/xperience/actions-runner/_work/opencv-python/opencv-python/opencv/modules/imgcodecs/src/loadsave.cpp (239) findDecoder imread_('../Data/last_hand2/0_1.jpg'): can't open/read file: check file path/integrity\n"
     ]
    },
    {
     "ename": "AttributeError",
     "evalue": "'NoneType' object has no attribute '__array_interface__'",
     "output_type": "error",
     "traceback": [
      "\u001b[0;31m---------------------------------------------------------------------------\u001b[0m",
      "\u001b[0;31mAttributeError\u001b[0m                            Traceback (most recent call last)",
      "\u001b[1;32m/Users/kte/ktePy/Python_DL_pj/Note/five_hand.ipynb 셀 3\u001b[0m in \u001b[0;36m<cell line: 2>\u001b[0;34m()\u001b[0m\n\u001b[1;32m      <a href='vscode-notebook-cell:/Users/kte/ktePy/Python_DL_pj/Note/five_hand.ipynb#ch0000007?line=0'>1</a>\u001b[0m tmp \u001b[39m=\u001b[39m cv2\u001b[39m.\u001b[39mimread(\u001b[39m\"\u001b[39m\u001b[39m../Data/last_hand2/0_1.jpg\u001b[39m\u001b[39m\"\u001b[39m,cv2\u001b[39m.\u001b[39mIMREAD_GRAYSCALE)\n\u001b[0;32m----> <a href='vscode-notebook-cell:/Users/kte/ktePy/Python_DL_pj/Note/five_hand.ipynb#ch0000007?line=1'>2</a>\u001b[0m tmp2 \u001b[39m=\u001b[39m Image\u001b[39m.\u001b[39;49mfromarray(tmp)\n\u001b[1;32m      <a href='vscode-notebook-cell:/Users/kte/ktePy/Python_DL_pj/Note/five_hand.ipynb#ch0000007?line=2'>3</a>\u001b[0m tmp2\u001b[39m.\u001b[39msave(\u001b[39m\"\u001b[39m\u001b[39mtemp_img.jpg\u001b[39m\u001b[39m\"\u001b[39m)\n\u001b[1;32m      <a href='vscode-notebook-cell:/Users/kte/ktePy/Python_DL_pj/Note/five_hand.ipynb#ch0000007?line=3'>4</a>\u001b[0m tmp2 \u001b[39m=\u001b[39m np\u001b[39m.\u001b[39marray(tmp2)\n",
      "File \u001b[0;32m~/opt/anaconda3/envs/tensorflow/lib/python3.9/site-packages/PIL/Image.py:2943\u001b[0m, in \u001b[0;36mfromarray\u001b[0;34m(obj, mode)\u001b[0m\n\u001b[1;32m   2904\u001b[0m \u001b[39mdef\u001b[39;00m \u001b[39mfromarray\u001b[39m(obj, mode\u001b[39m=\u001b[39m\u001b[39mNone\u001b[39;00m):\n\u001b[1;32m   2905\u001b[0m     \u001b[39m\"\"\"\u001b[39;00m\n\u001b[1;32m   2906\u001b[0m \u001b[39m    Creates an image memory from an object exporting the array interface\u001b[39;00m\n\u001b[1;32m   2907\u001b[0m \u001b[39m    (using the buffer protocol).\u001b[39;00m\n\u001b[0;32m   (...)\u001b[0m\n\u001b[1;32m   2941\u001b[0m \u001b[39m    .. versionadded:: 1.1.6\u001b[39;00m\n\u001b[1;32m   2942\u001b[0m \u001b[39m    \"\"\"\u001b[39;00m\n\u001b[0;32m-> 2943\u001b[0m     arr \u001b[39m=\u001b[39m obj\u001b[39m.\u001b[39;49m__array_interface__\n\u001b[1;32m   2944\u001b[0m     shape \u001b[39m=\u001b[39m arr[\u001b[39m\"\u001b[39m\u001b[39mshape\u001b[39m\u001b[39m\"\u001b[39m]\n\u001b[1;32m   2945\u001b[0m     ndim \u001b[39m=\u001b[39m \u001b[39mlen\u001b[39m(shape)\n",
      "\u001b[0;31mAttributeError\u001b[0m: 'NoneType' object has no attribute '__array_interface__'"
     ]
    }
   ],
   "source": [
    "\n",
    "tmp = cv2.imread(\"../Data/last_hand2/0_1.jpg\",cv2.IMREAD_GRAYSCALE)\n",
    "tmp2 = Image.fromarray(tmp)\n",
    "tmp2.save(\"temp_img.jpg\")\n",
    "tmp2 = np.array(tmp2)\n",
    "tmp3 = cv2.imread(\"temp_img.jpg\",cv2.IMREAD_GRAYSCALE)\n",
    "print(tmp[tmp> 0].mean(),tmp2[tmp2> 0].mean(),tmp3[tmp3> 0].mean())\n"
   ]
  },
  {
   "cell_type": "code",
   "execution_count": 124,
   "metadata": {},
   "outputs": [],
   "source": [
    "counter = 0 \n",
    "handnum = 0\n",
    "\n",
    "for file in sorted(glob(\"../Data/last_hand2/*\")):\n",
    "        \n",
    "    if(counter == 6):\n",
    "        counter = 0\n",
    "        handnum += 1\n",
    "    \n",
    "    if(counter == 0):\n",
    "        os.mkdir(\"../Data/rotationver/\" + str(handnum))\n",
    "    \n",
    "    temp_img = cv2.imread(file, cv2.IMREAD_GRAYSCALE)\n",
    "    temp_img = cv2.resize(temp_img,(400,400))\n",
    "\n",
    "\n",
    "    for angle in range(-15, 16, 1):\n",
    "        \n",
    "        img2 = Image.fromarray(temp_img)\n",
    "        img2 = img2.rotate(angle)\n",
    "        img2 = np.array(img2)\n",
    "        \n",
    "        if (counter != 5):\n",
    "            ret, th1 = cv2.threshold(img2,100,255,cv2.THRESH_TOZERO)\n",
    "            img2 = Image.fromarray(th1)\n",
    "            img2.save(\"../Data/rotationver/\"+ str(handnum)+'/' + str(handnum)+\"_\"+str(counter) + \"_rotation_\" + str(angle+16) + \".png\")\n",
    "        else:\n",
    "            th1 = img2\n",
    "            img2 = Image.fromarray(th1)\n",
    "            img2.save(\"../Data/rotationver/\"+ str(handnum)+'/' + str(handnum)+\"_\"+str(counter) + \"_rotation_\" + str(angle+16) + \".jpg\")\n",
    "        # img2 = Image.fromarray(th1)\n",
    "        \n",
    "        \n",
    "        # img2.save(\"../Data/rotationver/\"+ str(handnum)+'/' + str(handnum)+\"_\"+str(counter) + \"_rotation_\" + str(angle+16) + \".png\")\n",
    "        \n",
    "\n",
    "    counter +=1\n",
    "    \n"
   ]
  },
  {
   "cell_type": "code",
   "execution_count": 125,
   "metadata": {},
   "outputs": [
    {
     "data": {
      "text/plain": [
       "'asfdasdasd'"
      ]
     },
     "execution_count": 125,
     "metadata": {},
     "output_type": "execute_result"
    }
   ],
   "source": [
    "fds='asfddsf'\n",
    "\n",
    "fds = fds[:-3]\n",
    "fds = fds + 'asdasd'\n",
    "fds\n",
    "\n",
    "\n",
    "\n"
   ]
  },
  {
   "cell_type": "code",
   "execution_count": null,
   "metadata": {},
   "outputs": [],
   "source": []
  }
 ],
 "metadata": {
  "kernelspec": {
   "display_name": "Python 3.9.13 ('tensorflow')",
   "language": "python",
   "name": "python3"
  },
  "language_info": {
   "codemirror_mode": {
    "name": "ipython",
    "version": 3
   },
   "file_extension": ".py",
   "mimetype": "text/x-python",
   "name": "python",
   "nbconvert_exporter": "python",
   "pygments_lexer": "ipython3",
   "version": "3.9.13"
  },
  "orig_nbformat": 4,
  "vscode": {
   "interpreter": {
    "hash": "8391fe5f87ea823b3933087779d976ca05f6a1d69510a4721448841fffbcd65c"
   }
  }
 },
 "nbformat": 4,
 "nbformat_minor": 2
}
