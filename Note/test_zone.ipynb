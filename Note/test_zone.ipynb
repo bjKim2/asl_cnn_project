{
 "cells": [
  {
   "cell_type": "code",
   "execution_count": 2,
   "metadata": {},
   "outputs": [],
   "source": [
    "from glob import glob\n",
    "from PIL import Image\n",
    "import tensorflow as tf\n",
    "from tensorflow import keras\n",
    "import matplotlib.pyplot as plt\n",
    "import cv2 \n",
    "import numpy as np"
   ]
  },
  {
   "cell_type": "code",
   "execution_count": 2,
   "metadata": {},
   "outputs": [],
   "source": [
    "# 모델 불러오기\n",
    "model = keras.models.load_model(\"../Data/best_cnn_model_ASL.h5\")"
   ]
  },
  {
   "cell_type": "code",
   "execution_count": 63,
   "metadata": {},
   "outputs": [
    {
     "data": {
      "image/png": "[encoded data removed]",
      "text/plain": [
       "<Figure size 432x288 with 1 Axes>"
      ]
     },
     "metadata": {
      "needs_background": "light"
     },
     "output_type": "display_data"
    }
   ],
   "source": [
    "# 테스트 이미지 불러오기(dm)\n",
    "files = sorted(glob(\"../Data/dmb_asl_test/*\"))\n",
    "tmp_img= cv2.imread(files[0],cv2.IMREAD_GRAYSCALE)\n",
    "# tmp_img = cv2.resize(tmp_img, (400,400))\n",
    "# tmp_img = tmp_img.astype('float32')\n",
    "\n",
    "plt.imshow(tmp_img, cmap = 'gray')\n",
    "\n",
    "res , tmp_img2= cv2.threshold(tmp_img,200,255,cv2.THRESH_TOZERO_INV)\n",
    "res , tmp_img3= cv2.threshold(tmp_img2,190,255,cv2.THRESH_TOZERO)\n",
    "\n",
    "# plt.imshow(tmp_img3, cmap = 'gray')\n",
    "tmp_img4 = cv2.adaptiveThreshold(tmp_img,255,cv2.ADAPTIVE_THRESH_MEAN_C,cv2.THRESH_BINARY_INV, 11, 5)\n",
    "# tmp_img4 = cv2.equalizeHist(tmp_img4)\n",
    "plt.imshow(tmp_img4, cmap = 'gray')\n",
    "blurred = cv2.blur(tmp_img4,ksize= (3,3))\n",
    "plt.imshow(blurred, cmap = 'gray')\n",
    "\n",
    "blur = cv2.bilateralFilter(tmp_img4,9,75,75)\n",
    "plt.imshow(blur, cmap = 'gray')\n",
    "median = cv2.medianBlur(tmp_img4,5)\n",
    "\n",
    "\n",
    "median = cv2.medianBlur(median,5)\n",
    "median = cv2.medianBlur(median,5)\n",
    "median = cv2.medianBlur(median,5)\n",
    "median = cv2.medianBlur(median,5)\n",
    "median = cv2.medianBlur(median,5)\n",
    "median = cv2.medianBlur(median,5)\n",
    "median = cv2.medianBlur(median,5)\n",
    "median = cv2.medianBlur(median,5)\n",
    "median = cv2.medianBlur(median,5)\n",
    "\n",
    "plt.imshow(median, cmap = 'gray')\n",
    "\n",
    "plt.show()\n",
    "\n",
    "# for file in files:\n"
   ]
  },
  {
   "cell_type": "code",
   "execution_count": null,
   "metadata": {},
   "outputs": [],
   "source": []
  },
  {
   "cell_type": "code",
   "execution_count": null,
   "metadata": {},
   "outputs": [],
   "source": []
  }
 ],
 "metadata": {
  "kernelspec": {
   "display_name": "Python 3.9.13 ('tensorflow')",
   "language": "python",
   "name": "python3"
  },
  "language_info": {
   "codemirror_mode": {
    "name": "ipython",
    "version": 3
   },
   "file_extension": ".py",
   "mimetype": "text/x-python",
   "name": "python",
   "nbconvert_exporter": "python",
   "pygments_lexer": "ipython3",
   "version": "3.9.13"
  },
  "orig_nbformat": 4,
  "vscode": {
   "interpreter": {
    "hash": "8391fe5f87ea823b3933087779d976ca05f6a1d69510a4721448841fffbcd65c"
   }
  }
 },
 "nbformat": 4,
 "nbformat_minor": 2
}
