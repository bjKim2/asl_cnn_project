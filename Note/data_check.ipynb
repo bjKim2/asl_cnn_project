{
 "cells": [
  {
   "cell_type": "code",
   "execution_count": 71,
   "metadata": {},
   "outputs": [],
   "source": [
    "import pandas as pd\n",
    "import numpy as np\n",
    "import matplotlib.pyplot as plt\n",
    "import seaborn as sns\n",
    "\n",
    "import warnings\n",
    "warnings.filterwarnings('ignore')"
   ]
  },
  {
   "cell_type": "code",
   "execution_count": 72,
   "metadata": {},
   "outputs": [],
   "source": [
    "from glob import glob\n",
    "from PIL import Image"
   ]
  },
  {
   "cell_type": "code",
   "execution_count": 73,
   "metadata": {},
   "outputs": [],
   "source": [
    "import re\n",
    "img_filename = []\n",
    "for i in range(10):\n",
    "    img_filename.append(sorted(glob('../Data/Gesture Image Data/'+str(i)+'/*.jpg'),key=lambda s: int(re.findall(r'\\d+', s)[1])))"
   ]
  },
  {
   "cell_type": "code",
   "execution_count": 74,
   "metadata": {},
   "outputs": [],
   "source": [
    "data = np.zeros([1500*10,50,50,3])\n",
    "for i in range(10):\n",
    "    count = 0\n",
    "    for path in img_filename[i]:\n",
    "        img = np.array(Image.open(path))\n",
    "        data[i*1500+count] = img\n",
    "        count+=1"
   ]
  },
  {
   "cell_type": "code",
   "execution_count": 75,
   "metadata": {},
   "outputs": [],
   "source": [
    "data = data/255.0"
   ]
  },
  {
   "cell_type": "code",
   "execution_count": 76,
   "metadata": {},
   "outputs": [],
   "source": [
    "target = np.zeros(1500)\n",
    "\n",
    "for i in range(1,10):\n",
    "    target = np.concatenate([target,np.full(1500,i)])"
   ]
  },
  {
   "cell_type": "code",
   "execution_count": 77,
   "metadata": {},
   "outputs": [
    {
     "data": {
      "text/plain": [
       "array([[[0.50588235, 0.4       , 0.3254902 ],\n",
       "        [0.49411765, 0.38823529, 0.32156863],\n",
       "        [0.49411765, 0.38823529, 0.32156863],\n",
       "        ...,\n",
       "        [0.55686275, 0.48235294, 0.41568627],\n",
       "        [0.55686275, 0.48627451, 0.43921569],\n",
       "        [0.56470588, 0.49411765, 0.44705882]],\n",
       "\n",
       "       [[0.48235294, 0.37647059, 0.30196078],\n",
       "        [0.50196078, 0.39607843, 0.32941176],\n",
       "        [0.49411765, 0.38823529, 0.32156863],\n",
       "        ...,\n",
       "        [0.55294118, 0.47843137, 0.41960784],\n",
       "        [0.55294118, 0.48627451, 0.42352941],\n",
       "        [0.54509804, 0.47843137, 0.41568627]],\n",
       "\n",
       "       [[0.48235294, 0.36862745, 0.30588235],\n",
       "        [0.49411765, 0.38823529, 0.32156863],\n",
       "        [0.47058824, 0.36078431, 0.30588235],\n",
       "        ...,\n",
       "        [0.54901961, 0.4745098 , 0.41960784],\n",
       "        [0.55686275, 0.49019608, 0.41960784],\n",
       "        [0.54117647, 0.4745098 , 0.40392157]],\n",
       "\n",
       "       ...,\n",
       "\n",
       "       [[0.41176471, 0.32156863, 0.29803922],\n",
       "        [0.44313725, 0.35294118, 0.32156863],\n",
       "        [0.42352941, 0.33333333, 0.30196078],\n",
       "        ...,\n",
       "        [0.43529412, 0.38039216, 0.32941176],\n",
       "        [0.4       , 0.38823529, 0.32156863],\n",
       "        [0.39607843, 0.38431373, 0.31764706]],\n",
       "\n",
       "       [[0.43529412, 0.34509804, 0.29019608],\n",
       "        [0.43921569, 0.34509804, 0.30588235],\n",
       "        [0.43137255, 0.33333333, 0.30588235],\n",
       "        ...,\n",
       "        [0.37647059, 0.36470588, 0.29803922],\n",
       "        [0.39215686, 0.38431373, 0.3372549 ],\n",
       "        [0.37647059, 0.36862745, 0.32156863]],\n",
       "\n",
       "       [[0.43137255, 0.34117647, 0.28627451],\n",
       "        [0.43921569, 0.34509804, 0.30588235],\n",
       "        [0.42352941, 0.3254902 , 0.29803922],\n",
       "        ...,\n",
       "        [0.36078431, 0.34901961, 0.28235294],\n",
       "        [0.36470588, 0.35686275, 0.30980392],\n",
       "        [0.35294118, 0.34509804, 0.29803922]]])"
      ]
     },
     "execution_count": 77,
     "metadata": {},
     "output_type": "execute_result"
    }
   ],
   "source": [
    "data[1502]"
   ]
  },
  {
   "cell_type": "code",
   "execution_count": 78,
   "metadata": {},
   "outputs": [],
   "source": [
    "from sklearn.model_selection import train_test_split\n",
    "trainData, testData, trainTarget, testTarget = train_test_split(\n",
    "    data, target, test_size = 0.2, random_state = 42\n",
    ")\n",
    "trainData, valData, trainTarget, valTarget = train_test_split(\n",
    "    trainData, trainTarget, test_size=0.2, random_state=42\n",
    ")"
   ]
  },
  {
   "cell_type": "code",
   "execution_count": 79,
   "metadata": {},
   "outputs": [],
   "source": [
    "import tensorflow as tf\n",
    "from tensorflow import keras\n",
    "import keras.metrics"
   ]
  },
  {
   "cell_type": "code",
   "execution_count": 80,
   "metadata": {},
   "outputs": [],
   "source": [
    "model = keras.Sequential()\n",
    "model.add(\n",
    "    keras.layers.Conv2D(\n",
    "        32,\n",
    "        kernel_size = 3,\n",
    "        activation = 'relu',\n",
    "        padding = 'same',\n",
    "        input_shape = (50,50,3)\n",
    "    )\n",
    ")\n",
    "model.add(\n",
    "    keras.layers.MaxPool2D(2)\n",
    ")"
   ]
  },
  {
   "cell_type": "code",
   "execution_count": 81,
   "metadata": {},
   "outputs": [],
   "source": [
    "model.add(keras.layers.Flatten())\n",
    "model.add(keras.layers.Dense(100,activation='relu'))\n",
    "model.add(keras.layers.Dense(10,activation = 'softmax'))\n"
   ]
  },
  {
   "cell_type": "code",
   "execution_count": null,
   "metadata": {},
   "outputs": [],
   "source": []
  },
  {
   "cell_type": "code",
   "execution_count": 82,
   "metadata": {},
   "outputs": [
    {
     "name": "stdout",
     "output_type": "stream",
     "text": [
      "Epoch 1/20\n",
      "300/300 [==============================] - 5s 17ms/step - loss: 0.3175 - accuracy: 0.9169 - val_loss: 0.0317 - val_accuracy: 0.9946\n",
      "Epoch 2/20\n",
      "300/300 [==============================] - 5s 16ms/step - loss: 0.0073 - accuracy: 0.9996 - val_loss: 0.0025 - val_accuracy: 1.0000\n",
      "Epoch 3/20\n",
      "300/300 [==============================] - 4s 13ms/step - loss: 0.0016 - accuracy: 1.0000 - val_loss: 0.0013 - val_accuracy: 1.0000\n",
      "Epoch 4/20\n",
      "300/300 [==============================] - 4s 14ms/step - loss: 8.7820e-04 - accuracy: 1.0000 - val_loss: 7.7194e-04 - val_accuracy: 1.0000\n",
      "Epoch 5/20\n",
      "300/300 [==============================] - 4s 14ms/step - loss: 5.0299e-04 - accuracy: 1.0000 - val_loss: 4.7502e-04 - val_accuracy: 1.0000\n",
      "Epoch 6/20\n",
      "300/300 [==============================] - 4s 14ms/step - loss: 3.3853e-04 - accuracy: 1.0000 - val_loss: 3.2345e-04 - val_accuracy: 1.0000\n",
      "Epoch 7/20\n",
      "300/300 [==============================] - 4s 14ms/step - loss: 2.3523e-04 - accuracy: 1.0000 - val_loss: 2.5543e-04 - val_accuracy: 1.0000\n",
      "Epoch 8/20\n",
      "300/300 [==============================] - 4s 14ms/step - loss: 1.7075e-04 - accuracy: 1.0000 - val_loss: 1.8736e-04 - val_accuracy: 1.0000\n",
      "Epoch 9/20\n",
      "300/300 [==============================] - 4s 14ms/step - loss: 1.3003e-04 - accuracy: 1.0000 - val_loss: 1.4047e-04 - val_accuracy: 1.0000\n",
      "Epoch 10/20\n",
      "300/300 [==============================] - 4s 14ms/step - loss: 9.9792e-05 - accuracy: 1.0000 - val_loss: 1.0400e-04 - val_accuracy: 1.0000\n",
      "Epoch 11/20\n",
      "300/300 [==============================] - 4s 14ms/step - loss: 7.7721e-05 - accuracy: 1.0000 - val_loss: 8.5547e-05 - val_accuracy: 1.0000\n",
      "Epoch 12/20\n",
      "300/300 [==============================] - 4s 14ms/step - loss: 6.1027e-05 - accuracy: 1.0000 - val_loss: 7.7763e-05 - val_accuracy: 1.0000\n",
      "Epoch 13/20\n",
      "300/300 [==============================] - 5s 15ms/step - loss: 4.9438e-05 - accuracy: 1.0000 - val_loss: 5.5235e-05 - val_accuracy: 1.0000\n",
      "Epoch 14/20\n",
      "300/300 [==============================] - 4s 15ms/step - loss: 4.0510e-05 - accuracy: 1.0000 - val_loss: 4.3582e-05 - val_accuracy: 1.0000\n",
      "Epoch 15/20\n",
      "300/300 [==============================] - 4s 14ms/step - loss: 3.2788e-05 - accuracy: 1.0000 - val_loss: 3.8117e-05 - val_accuracy: 1.0000\n",
      "Epoch 16/20\n",
      "300/300 [==============================] - 4s 13ms/step - loss: 2.6749e-05 - accuracy: 1.0000 - val_loss: 3.2626e-05 - val_accuracy: 1.0000\n",
      "Epoch 17/20\n",
      "300/300 [==============================] - 4s 14ms/step - loss: 2.1818e-05 - accuracy: 1.0000 - val_loss: 2.6129e-05 - val_accuracy: 1.0000\n",
      "Epoch 18/20\n",
      "300/300 [==============================] - 4s 14ms/step - loss: 1.8149e-05 - accuracy: 1.0000 - val_loss: 2.1707e-05 - val_accuracy: 1.0000\n",
      "Epoch 19/20\n",
      "300/300 [==============================] - 4s 14ms/step - loss: 1.5004e-05 - accuracy: 1.0000 - val_loss: 1.8422e-05 - val_accuracy: 1.0000\n",
      "Epoch 20/20\n",
      "300/300 [==============================] - 4s 14ms/step - loss: 1.2864e-05 - accuracy: 1.0000 - val_loss: 1.6260e-05 - val_accuracy: 1.0000\n"
     ]
    }
   ],
   "source": [
    "model.compile(optimizer='adam',loss = 'sparse_categorical_crossentropy',metrics = 'accuracy')\n",
    "checkpoint_cb = keras.callbacks.ModelCheckpoint(\"../Data/best_cnn_model_chairlaptop.h5\")\n",
    "early_stopping_cb = keras.callbacks.EarlyStopping(patience=3, restore_best_weights=True) \n",
    "\n",
    "history = model.fit(\n",
    "    trainData, \n",
    "    trainTarget, \n",
    "    epochs = 20,\n",
    "    validation_data = (valData, valTarget), \n",
    "    # callbacks = [checkpoint_cb, early_stopping_cb]\n",
    ")\n"
   ]
  },
  {
   "cell_type": "code",
   "execution_count": null,
   "metadata": {},
   "outputs": [],
   "source": []
  }
 ],
 "metadata": {
  "kernelspec": {
   "display_name": "Python 3.9.13 ('tensorflow')",
   "language": "python",
   "name": "python3"
  },
  "language_info": {
   "codemirror_mode": {
    "name": "ipython",
    "version": 3
   },
   "file_extension": ".py",
   "mimetype": "text/x-python",
   "name": "python",
   "nbconvert_exporter": "python",
   "pygments_lexer": "ipython3",
   "version": "3.9.13"
  },
  "orig_nbformat": 4,
  "vscode": {
   "interpreter": {
    "hash": "8391fe5f87ea823b3933087779d976ca05f6a1d69510a4721448841fffbcd65c"
   }
  }
 },
 "nbformat": 4,
 "nbformat_minor": 2
}
