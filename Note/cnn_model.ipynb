{
 "cells": [
  {
   "cell_type": "code",
   "execution_count": 1,
   "metadata": {},
   "outputs": [],
   "source": [
    "import numpy as np\n",
    "import matplotlib.pyplot as plt\n",
    "from PIL import Image\n",
    "import cv2\n",
    "from glob import glob"
   ]
  },
  {
   "cell_type": "code",
   "execution_count": 2,
   "metadata": {},
   "outputs": [
    {
     "data": {
      "text/plain": [
       "[1, 2]"
      ]
     },
     "execution_count": 2,
     "metadata": {},
     "output_type": "execute_result"
    }
   ],
   "source": [
    "test = [1,2,3]\n",
    "test[:-1]"
   ]
  },
  {
   "cell_type": "code",
   "execution_count": 3,
   "metadata": {},
   "outputs": [],
   "source": [
    "# train_file = []\n",
    "# test_file = []\n",
    "# for i in range(10):\n",
    "#     for file in sorted(glob(\"../Data/rotationver/\"+str(i) + \"/*\" )):\n",
    "#         train_file.append(file)\n",
    "#     test_file = test_file + train_file[-62:-31]\n",
    "#     train_file = train_file[:-62] + train_file[-31:]\n",
    "    "
   ]
  },
  {
   "cell_type": "code",
   "execution_count": null,
   "metadata": {},
   "outputs": [],
   "source": [
    "train_file = []\n",
    "for i in range(10):\n",
    "    for file in sorted(glob(\"../Data/rotationver/\"+str(i) + \"/*\" )):\n",
    "        train_file.append(file)\n",
    "\n",
    "    "
   ]
  },
  {
   "cell_type": "code",
   "execution_count": 11,
   "metadata": {},
   "outputs": [],
   "source": [
    "test_file = []\n",
    "for i in range(10):\n",
    "    for file in sorted(glob(\"../Data/jaehwan/%d_*\"%i )):\n",
    "        test_file.append(file)\n"
   ]
  },
  {
   "cell_type": "code",
   "execution_count": 12,
   "metadata": {},
   "outputs": [
    {
     "data": {
      "text/plain": [
       "['../Data/jaehwan/0_b.png',\n",
       " '../Data/jaehwan/0_g.png',\n",
       " '../Data/jaehwan/0_n.png',\n",
       " '../Data/jaehwan/1_b.png',\n",
       " '../Data/jaehwan/1_g.png',\n",
       " '../Data/jaehwan/1_n.png',\n",
       " '../Data/jaehwan/2_b.png',\n",
       " '../Data/jaehwan/2_g.png',\n",
       " '../Data/jaehwan/2_n.png',\n",
       " '../Data/jaehwan/3_b.png',\n",
       " '../Data/jaehwan/3_g.png',\n",
       " '../Data/jaehwan/3_n.png',\n",
       " '../Data/jaehwan/4_b.png',\n",
       " '../Data/jaehwan/4_g.png',\n",
       " '../Data/jaehwan/4_n.png',\n",
       " '../Data/jaehwan/5_b.png',\n",
       " '../Data/jaehwan/5_g.png',\n",
       " '../Data/jaehwan/5_n.png',\n",
       " '../Data/jaehwan/6_b.png',\n",
       " '../Data/jaehwan/6_g.png',\n",
       " '../Data/jaehwan/6_n.png',\n",
       " '../Data/jaehwan/7_b.png',\n",
       " '../Data/jaehwan/7_g.png',\n",
       " '../Data/jaehwan/7_n.png',\n",
       " '../Data/jaehwan/8_b.png',\n",
       " '../Data/jaehwan/8_g.png',\n",
       " '../Data/jaehwan/8_n.png',\n",
       " '../Data/jaehwan/9_b.png',\n",
       " '../Data/jaehwan/9_g.png',\n",
       " '../Data/jaehwan/9_n.png']"
      ]
     },
     "execution_count": 12,
     "metadata": {},
     "output_type": "execute_result"
    }
   ],
   "source": [
    "test_file"
   ]
  },
  {
   "cell_type": "code",
   "execution_count": 14,
   "metadata": {},
   "outputs": [],
   "source": [
    "train_data = np.zeros((len(train_file), 400,400))\n",
    "count = 0\n",
    "\n",
    "for file in sorted(train_file):\n",
    "    train_data[count,:,:] = cv2.imread(file,cv2.IMREAD_GRAYSCALE)\n",
    "    count+=1\n",
    "    \n",
    "test_data = np.zeros((len(test_file), 400,400))\n",
    "count = 0\n",
    "for file in sorted(test_file):\n",
    "    tmp_img = cv2.imread(file,cv2.IMREAD_GRAYSCALE)\n",
    "    tmp_img = cv2.resize(tmp_img,(400,400))\n",
    "    res, tmp_img = cv2.threshold(tmp_img, 100, 255, cv2.THRESH_TOZERO)\n",
    "    test_data[count,:,:] = tmp_img\n",
    "    count+=1\n"
   ]
  },
  {
   "cell_type": "code",
   "execution_count": 19,
   "metadata": {},
   "outputs": [
    {
     "data": {
      "text/plain": [
       "(1160, 400, 400)"
      ]
     },
     "execution_count": 19,
     "metadata": {},
     "output_type": "execute_result"
    }
   ],
   "source": [
    "train_data.shape"
   ]
  },
  {
   "cell_type": "code",
   "execution_count": 20,
   "metadata": {},
   "outputs": [],
   "source": [
    "for i in range(len(train_file)):\n",
    "    temp_mean = train_data[i,train_data[i,:,:] > 0].mean()\n",
    "    train_data[i,train_data[i,:,:] > 0] = (train_data[i,train_data[i,:,:] > 0]/ temp_mean) * 150 / 255.0\n",
    "for i in range(len(test_file)):\n",
    "    temp_mean = test_data[i,test_data[i,:,:] > 0].mean()\n",
    "    test_data[i] = (test_data[i]  / temp_mean) * 150 / 255.0"
   ]
  },
  {
   "cell_type": "code",
   "execution_count": 21,
   "metadata": {},
   "outputs": [
    {
     "data": {
      "text/plain": [
       "(25234,)"
      ]
     },
     "execution_count": 21,
     "metadata": {},
     "output_type": "execute_result"
    }
   ],
   "source": [
    "train_data[i,train_data[i,:,:] > 0].shape"
   ]
  },
  {
   "cell_type": "code",
   "execution_count": 22,
   "metadata": {},
   "outputs": [
    {
     "data": {
      "text/plain": [
       "(32185,)"
      ]
     },
     "execution_count": 22,
     "metadata": {},
     "output_type": "execute_result"
    }
   ],
   "source": [
    "test_data[i,test_data[i,:,:] > 0].shape"
   ]
  },
  {
   "cell_type": "code",
   "execution_count": 23,
   "metadata": {},
   "outputs": [
    {
     "data": {
      "text/plain": [
       "array([[0., 0., 0., ..., 0., 0., 0.],\n",
       "       [0., 0., 0., ..., 0., 0., 0.],\n",
       "       [0., 0., 0., ..., 0., 0., 0.],\n",
       "       ...,\n",
       "       [0., 0., 0., ..., 0., 0., 0.],\n",
       "       [0., 0., 0., ..., 0., 0., 0.],\n",
       "       [0., 0., 0., ..., 0., 0., 0.]])"
      ]
     },
     "execution_count": 23,
     "metadata": {},
     "output_type": "execute_result"
    }
   ],
   "source": [
    "train_data[0]"
   ]
  },
  {
   "cell_type": "code",
   "execution_count": 24,
   "metadata": {},
   "outputs": [
    {
     "name": "stdout",
     "output_type": "stream",
     "text": [
      "0.588235294117648\n",
      "0.5882352941176471\n"
     ]
    }
   ],
   "source": [
    "print(train_data[train_data > 0].mean())\n",
    "print(train_data[40,train_data[40,:,:] >0].mean())\n"
   ]
  },
  {
   "cell_type": "code",
   "execution_count": 27,
   "metadata": {},
   "outputs": [
    {
     "name": "stdout",
     "output_type": "stream",
     "text": [
      "0.5882352941176472\n",
      "0.1395845588235294\n"
     ]
    }
   ],
   "source": [
    "print(test_data[test_data > 0].mean())\n",
    "print(test_data[10,test_data[10,:,:] >= 0].mean())"
   ]
  },
  {
   "cell_type": "code",
   "execution_count": null,
   "metadata": {},
   "outputs": [],
   "source": []
  },
  {
   "cell_type": "code",
   "execution_count": 29,
   "metadata": {},
   "outputs": [],
   "source": [
    "train_target = np.zeros(len(train_file)//10).astype(int)\n",
    "\n",
    "for i in range(1,10):\n",
    "    train_target = np.concatenate([train_target,np.full(len(train_file)//10,i)])\n",
    "    \n",
    "test_target = np.zeros(len(test_file)//10).astype(int)\n",
    "for i in range(1,10):\n",
    "    test_target = np.concatenate([test_target,np.full(len(test_file)//10,i)])"
   ]
  },
  {
   "cell_type": "code",
   "execution_count": 30,
   "metadata": {},
   "outputs": [],
   "source": [
    "train_data = train_data.reshape(len(train_file),400,400,-1)\n",
    "test_data = test_data.reshape(len(test_file),400,400,-1)"
   ]
  },
  {
   "cell_type": "code",
   "execution_count": 31,
   "metadata": {},
   "outputs": [
    {
     "data": {
      "text/plain": [
       "<matplotlib.image.AxesImage at 0x14b7f51f0>"
      ]
     },
     "execution_count": 31,
     "metadata": {},
     "output_type": "execute_result"
    },
    {
     "data": {
      "image/png": "[encoded data removed]",
      "text/plain": [
       "<Figure size 432x288 with 1 Axes>"
      ]
     },
     "metadata": {
      "needs_background": "light"
     },
     "output_type": "display_data"
    }
   ],
   "source": [
    "plt.imshow(train_data[0],cmap='gray')"
   ]
  },
  {
   "cell_type": "code",
   "execution_count": null,
   "metadata": {},
   "outputs": [],
   "source": []
  },
  {
   "cell_type": "code",
   "execution_count": 319,
   "metadata": {},
   "outputs": [],
   "source": [
    "import tensorflow as tf\n",
    "from tensorflow import keras\n",
    "import keras.metrics\n",
    "model = keras.Sequential()\n",
    "model.add(\n",
    "    keras.layers.Conv2D(\n",
    "        32,\n",
    "        kernel_size = 3,\n",
    "        activation = 'relu',\n",
    "        padding = 'same',\n",
    "        input_shape = (400,400,1)\n",
    "    )\n",
    ")\n",
    "model.add(\n",
    "    keras.layers.Conv2D(\n",
    "        32,\n",
    "        kernel_size = 3,\n",
    "        activation = 'relu',\n",
    "        padding = 'same',\n",
    "        input_shape = (400,400,1)\n",
    "    )\n",
    ")\n",
    "model.add(\n",
    "    keras.layers.MaxPool2D(2)\n",
    ")\n",
    "model.add(\n",
    "    keras.layers.Conv2D(\n",
    "        64,\n",
    "        kernel_size = 3,\n",
    "        activation = 'relu',\n",
    "        padding = 'same'\n",
    "    )\n",
    "    \n",
    ")\n",
    "model.add(\n",
    "    keras.layers.Conv2D(\n",
    "        64,\n",
    "        kernel_size = 3,\n",
    "        activation = 'relu',\n",
    "        padding = 'same'\n",
    "    )\n",
    ")\n",
    "model.add(\n",
    "    keras.layers.MaxPool2D(2)\n",
    ")\n",
    "model.add(keras.layers.Flatten())\n",
    "model.add(keras.layers.Dense(100,activation='relu'))\n",
    "model.add(keras.layers.Dense(200,activation='relu'))\n",
    "model.add(keras.layers.Dense(10,activation = 'softmax'))\n",
    "\n",
    "\n"
   ]
  },
  {
   "cell_type": "code",
   "execution_count": 350,
   "metadata": {},
   "outputs": [
    {
     "name": "stdout",
     "output_type": "stream",
     "text": [
      "Epoch 1/20\n",
      "49/49 [==============================] - 127s 2s/step - loss: 0.0368 - accuracy: 0.9865 - val_loss: 0.0544 - val_accuracy: 0.9903\n",
      "Epoch 2/20\n",
      "49/49 [==============================] - 123s 2s/step - loss: 5.2389e-04 - accuracy: 1.0000 - val_loss: 0.0499 - val_accuracy: 0.9871\n",
      "Epoch 3/20\n",
      "49/49 [==============================] - 119s 2s/step - loss: 5.5816e-05 - accuracy: 1.0000 - val_loss: 0.0482 - val_accuracy: 0.9871\n",
      "Epoch 4/20\n",
      "49/49 [==============================] - 120s 2s/step - loss: 3.0721e-05 - accuracy: 1.0000 - val_loss: 0.0470 - val_accuracy: 0.9871\n",
      "Epoch 5/20\n",
      "49/49 [==============================] - 119s 2s/step - loss: 1.7371e-05 - accuracy: 1.0000 - val_loss: 0.0466 - val_accuracy: 0.9871\n",
      "Epoch 6/20\n",
      "49/49 [==============================] - 125s 3s/step - loss: 9.2903e-06 - accuracy: 1.0000 - val_loss: 0.0439 - val_accuracy: 0.9871\n",
      "Epoch 7/20\n",
      "49/49 [==============================] - 127s 3s/step - loss: 4.7375e-06 - accuracy: 1.0000 - val_loss: 0.0498 - val_accuracy: 0.9871\n",
      "Epoch 8/20\n",
      "49/49 [==============================] - 121s 2s/step - loss: 2.8744e-06 - accuracy: 1.0000 - val_loss: 0.0479 - val_accuracy: 0.9871\n",
      "Epoch 9/20\n",
      "49/49 [==============================] - 125s 3s/step - loss: 1.9749e-06 - accuracy: 1.0000 - val_loss: 0.0471 - val_accuracy: 0.9871\n",
      "Epoch 10/20\n",
      "49/49 [==============================] - 126s 3s/step - loss: 1.4453e-06 - accuracy: 1.0000 - val_loss: 0.0524 - val_accuracy: 0.9871\n",
      "Epoch 11/20\n",
      "49/49 [==============================] - 121s 2s/step - loss: 1.0940e-06 - accuracy: 1.0000 - val_loss: 0.0550 - val_accuracy: 0.9871\n",
      "Epoch 12/20\n",
      "49/49 [==============================] - 115s 2s/step - loss: 8.6115e-07 - accuracy: 1.0000 - val_loss: 0.0603 - val_accuracy: 0.9871\n",
      "Epoch 13/20\n",
      "49/49 [==============================] - 113s 2s/step - loss: 6.6695e-07 - accuracy: 1.0000 - val_loss: 0.0584 - val_accuracy: 0.9871\n",
      "Epoch 14/20\n",
      "49/49 [==============================] - 114s 2s/step - loss: 5.3590e-07 - accuracy: 1.0000 - val_loss: 0.0652 - val_accuracy: 0.9871\n",
      "Epoch 15/20\n",
      "49/49 [==============================] - 117s 2s/step - loss: 4.4876e-07 - accuracy: 1.0000 - val_loss: 0.0675 - val_accuracy: 0.9871\n",
      "Epoch 16/20\n",
      "49/49 [==============================] - 117s 2s/step - loss: 3.7662e-07 - accuracy: 1.0000 - val_loss: 0.0675 - val_accuracy: 0.9871\n"
     ]
    }
   ],
   "source": [
    "model.compile(optimizer='adam',loss = 'sparse_categorical_crossentropy',metrics = 'accuracy')\n",
    "checkpoint_cb = keras.callbacks.ModelCheckpoint(\"../Data/best_cnn_model_ASL.h5\")\n",
    "early_stopping_cb = keras.callbacks.EarlyStopping(patience=10, restore_best_weights=True) \n",
    "\n",
    "history = model.fit(\n",
    "    train_data, \n",
    "    train_target, \n",
    "    epochs = 20,\n",
    "    validation_data = (test_data, test_target), \n",
    "    callbacks = [checkpoint_cb, early_stopping_cb]\n",
    ")\n"
   ]
  },
  {
   "cell_type": "code",
   "execution_count": 351,
   "metadata": {},
   "outputs": [],
   "source": [
    "from PIL import Image\n",
    "import cv2"
   ]
  },
  {
   "cell_type": "code",
   "execution_count": 352,
   "metadata": {},
   "outputs": [],
   "source": [
    "X_test = np.zeros((10,400,400))\n",
    "for i in range(10):\n",
    "    test_img = cv2.imread(\"../Data/youngjin/%d_7.png\"%i,cv2.IMREAD_GRAYSCALE)\n",
    "    test_img = cv2.resize(test_img, (400,400))\n",
    "    res , th1 = cv2.threshold(test_img,100,255,cv2.THRESH_TOZERO)\n",
    "    \n",
    "    \n",
    "    X_test[i,:,:] = th1\n",
    "    \n",
    "    temp_mean = th1[th1>0].mean()\n",
    "    X_test[i] = (X_test[i]/temp_mean) * 150 / 255.0\n",
    "    "
   ]
  },
  {
   "cell_type": "code",
   "execution_count": 353,
   "metadata": {},
   "outputs": [],
   "source": [
    "import matplotlib.pyplot as plt"
   ]
  },
  {
   "cell_type": "code",
   "execution_count": 354,
   "metadata": {},
   "outputs": [
    {
     "data": {
      "text/plain": [
       "<matplotlib.image.AxesImage at 0x1504d5dc0>"
      ]
     },
     "execution_count": 354,
     "metadata": {},
     "output_type": "execute_result"
    },
    {
     "data": {
      "image/png": "[encoded data removed]",
      "text/plain": [
       "<Figure size 432x288 with 1 Axes>"
      ]
     },
     "metadata": {
      "needs_background": "light"
     },
     "output_type": "display_data"
    }
   ],
   "source": [
    "plt.imshow(X_test[2])"
   ]
  },
  {
   "cell_type": "code",
   "execution_count": 355,
   "metadata": {},
   "outputs": [],
   "source": [
    "y_test = np.arange(10)\n",
    "X_test = X_test.reshape(10,400,400,1)"
   ]
  },
  {
   "cell_type": "code",
   "execution_count": 356,
   "metadata": {},
   "outputs": [
    {
     "name": "stdout",
     "output_type": "stream",
     "text": [
      "1/1 [==============================] - 1s 685ms/step\n"
     ]
    }
   ],
   "source": [
    "pred = model.predict(X_test)"
   ]
  },
  {
   "cell_type": "code",
   "execution_count": 357,
   "metadata": {},
   "outputs": [
    {
     "name": "stdout",
     "output_type": "stream",
     "text": [
      "True\n",
      "False\n",
      "True\n",
      "True\n",
      "True\n",
      "True\n",
      "True\n",
      "True\n",
      "True\n",
      "False\n"
     ]
    }
   ],
   "source": [
    "for i in range(10):\n",
    "    print(pred[i].argmax() == y_test[i]) "
   ]
  },
  {
   "cell_type": "code",
   "execution_count": 375,
   "metadata": {},
   "outputs": [
    {
     "ename": "TypeError",
     "evalue": "glob() missing 1 required positional argument: 'pathname'",
     "output_type": "error",
     "traceback": [
      "\u001b[0;31m---------------------------------------------------------------------------\u001b[0m",
      "\u001b[0;31mTypeError\u001b[0m                                 Traceback (most recent call last)",
      "\u001b[1;32m/Users/kte/ktePy/Python_DL_pj/Note/cnn_model.ipynb 셀 29\u001b[0m in \u001b[0;36m<cell line: 1>\u001b[0;34m()\u001b[0m\n\u001b[0;32m----> <a href='vscode-notebook-cell:/Users/kte/ktePy/Python_DL_pj/Note/cnn_model.ipynb#ch0000039?line=0'>1</a>\u001b[0m glob()\n",
      "\u001b[0;31mTypeError\u001b[0m: glob() missing 1 required positional argument: 'pathname'"
     ]
    }
   ],
   "source": []
  },
  {
   "cell_type": "code",
   "execution_count": null,
   "metadata": {},
   "outputs": [],
   "source": []
  }
 ],
 "metadata": {
  "kernelspec": {
   "display_name": "Python 3.9.13 ('tensorflow')",
   "language": "python",
   "name": "python3"
  },
  "language_info": {
   "codemirror_mode": {
    "name": "ipython",
    "version": 3
   },
   "file_extension": ".py",
   "mimetype": "text/x-python",
   "name": "python",
   "nbconvert_exporter": "python",
   "pygments_lexer": "ipython3",
   "version": "3.9.13"
  },
  "orig_nbformat": 4,
  "vscode": {
   "interpreter": {
    "hash": "8391fe5f87ea823b3933087779d976ca05f6a1d69510a4721448841fffbcd65c"
   }
  }
 },
 "nbformat": 4,
 "nbformat_minor": 2
}
