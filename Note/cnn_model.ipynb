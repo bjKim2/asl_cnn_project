{
 "cells": [
  {
   "cell_type": "code",
   "execution_count": 1,
   "metadata": {},
   "outputs": [],
   "source": [
    "import numpy as np\n",
    "import matplotlib.pyplot as plt\n",
    "from PIL import Image\n",
    "import cv2\n",
    "from glob import glob"
   ]
  },
  {
   "cell_type": "code",
   "execution_count": 2,
   "metadata": {},
   "outputs": [
    {
     "data": {
      "text/plain": [
       "[1, 2]"
      ]
     },
     "execution_count": 2,
     "metadata": {},
     "output_type": "execute_result"
    }
   ],
   "source": [
    "test = [1,2,3]\n",
    "test[:-1]"
   ]
  },
  {
   "cell_type": "code",
   "execution_count": null,
   "metadata": {},
   "outputs": [],
   "source": []
  },
  {
   "cell_type": "code",
   "execution_count": 3,
   "metadata": {},
   "outputs": [],
   "source": [
    "train_file = []\n",
    "test_file = []\n",
    "for i in range(10):\n",
    "    for file in sorted(glob(\"../Data/rotationver/\"+str(i) + \"/*\" )):\n",
    "        train_file.append(file)\n",
    "    test_file = test_file + train_file[-62:-31]\n",
    "    train_file = train_file[:-62] + train_file[-31:]\n",
    "    "
   ]
  },
  {
   "cell_type": "code",
   "execution_count": 4,
   "metadata": {},
   "outputs": [
    {
     "data": {
      "text/plain": [
       "['../Data/rotationver/0\\\\0_4_rotation_1.png',\n",
       " '../Data/rotationver/0\\\\0_4_rotation_10.png',\n",
       " '../Data/rotationver/0\\\\0_4_rotation_11.png',\n",
       " '../Data/rotationver/0\\\\0_4_rotation_12.png',\n",
       " '../Data/rotationver/0\\\\0_4_rotation_13.png',\n",
       " '../Data/rotationver/0\\\\0_4_rotation_14.png',\n",
       " '../Data/rotationver/0\\\\0_4_rotation_15.png',\n",
       " '../Data/rotationver/0\\\\0_4_rotation_16.png',\n",
       " '../Data/rotationver/0\\\\0_4_rotation_17.png',\n",
       " '../Data/rotationver/0\\\\0_4_rotation_18.png',\n",
       " '../Data/rotationver/0\\\\0_4_rotation_19.png',\n",
       " '../Data/rotationver/0\\\\0_4_rotation_2.png',\n",
       " '../Data/rotationver/0\\\\0_4_rotation_20.png',\n",
       " '../Data/rotationver/0\\\\0_4_rotation_21.png',\n",
       " '../Data/rotationver/0\\\\0_4_rotation_22.png',\n",
       " '../Data/rotationver/0\\\\0_4_rotation_23.png',\n",
       " '../Data/rotationver/0\\\\0_4_rotation_24.png',\n",
       " '../Data/rotationver/0\\\\0_4_rotation_25.png',\n",
       " '../Data/rotationver/0\\\\0_4_rotation_26.png',\n",
       " '../Data/rotationver/0\\\\0_4_rotation_27.png',\n",
       " '../Data/rotationver/0\\\\0_4_rotation_28.png',\n",
       " '../Data/rotationver/0\\\\0_4_rotation_29.png',\n",
       " '../Data/rotationver/0\\\\0_4_rotation_3.png',\n",
       " '../Data/rotationver/0\\\\0_4_rotation_30.png',\n",
       " '../Data/rotationver/0\\\\0_4_rotation_31.png',\n",
       " '../Data/rotationver/0\\\\0_4_rotation_4.png',\n",
       " '../Data/rotationver/0\\\\0_4_rotation_5.png',\n",
       " '../Data/rotationver/0\\\\0_4_rotation_6.png',\n",
       " '../Data/rotationver/0\\\\0_4_rotation_7.png',\n",
       " '../Data/rotationver/0\\\\0_4_rotation_8.png',\n",
       " '../Data/rotationver/0\\\\0_4_rotation_9.png',\n",
       " '../Data/rotationver/1\\\\1_4_rotation_1.png',\n",
       " '../Data/rotationver/1\\\\1_4_rotation_10.png',\n",
       " '../Data/rotationver/1\\\\1_4_rotation_11.png',\n",
       " '../Data/rotationver/1\\\\1_4_rotation_12.png',\n",
       " '../Data/rotationver/1\\\\1_4_rotation_13.png',\n",
       " '../Data/rotationver/1\\\\1_4_rotation_14.png',\n",
       " '../Data/rotationver/1\\\\1_4_rotation_15.png',\n",
       " '../Data/rotationver/1\\\\1_4_rotation_16.png',\n",
       " '../Data/rotationver/1\\\\1_4_rotation_17.png',\n",
       " '../Data/rotationver/1\\\\1_4_rotation_18.png',\n",
       " '../Data/rotationver/1\\\\1_4_rotation_19.png',\n",
       " '../Data/rotationver/1\\\\1_4_rotation_2.png',\n",
       " '../Data/rotationver/1\\\\1_4_rotation_20.png',\n",
       " '../Data/rotationver/1\\\\1_4_rotation_21.png',\n",
       " '../Data/rotationver/1\\\\1_4_rotation_22.png',\n",
       " '../Data/rotationver/1\\\\1_4_rotation_23.png',\n",
       " '../Data/rotationver/1\\\\1_4_rotation_24.png',\n",
       " '../Data/rotationver/1\\\\1_4_rotation_25.png',\n",
       " '../Data/rotationver/1\\\\1_4_rotation_26.png',\n",
       " '../Data/rotationver/1\\\\1_4_rotation_27.png',\n",
       " '../Data/rotationver/1\\\\1_4_rotation_28.png',\n",
       " '../Data/rotationver/1\\\\1_4_rotation_29.png',\n",
       " '../Data/rotationver/1\\\\1_4_rotation_3.png',\n",
       " '../Data/rotationver/1\\\\1_4_rotation_30.png',\n",
       " '../Data/rotationver/1\\\\1_4_rotation_31.png',\n",
       " '../Data/rotationver/1\\\\1_4_rotation_4.png',\n",
       " '../Data/rotationver/1\\\\1_4_rotation_5.png',\n",
       " '../Data/rotationver/1\\\\1_4_rotation_6.png',\n",
       " '../Data/rotationver/1\\\\1_4_rotation_7.png',\n",
       " '../Data/rotationver/1\\\\1_4_rotation_8.png',\n",
       " '../Data/rotationver/1\\\\1_4_rotation_9.png',\n",
       " '../Data/rotationver/2\\\\2_4_rotation_1.png',\n",
       " '../Data/rotationver/2\\\\2_4_rotation_10.png',\n",
       " '../Data/rotationver/2\\\\2_4_rotation_11.png',\n",
       " '../Data/rotationver/2\\\\2_4_rotation_12.png',\n",
       " '../Data/rotationver/2\\\\2_4_rotation_13.png',\n",
       " '../Data/rotationver/2\\\\2_4_rotation_14.png',\n",
       " '../Data/rotationver/2\\\\2_4_rotation_15.png',\n",
       " '../Data/rotationver/2\\\\2_4_rotation_16.png',\n",
       " '../Data/rotationver/2\\\\2_4_rotation_17.png',\n",
       " '../Data/rotationver/2\\\\2_4_rotation_18.png',\n",
       " '../Data/rotationver/2\\\\2_4_rotation_19.png',\n",
       " '../Data/rotationver/2\\\\2_4_rotation_2.png',\n",
       " '../Data/rotationver/2\\\\2_4_rotation_20.png',\n",
       " '../Data/rotationver/2\\\\2_4_rotation_21.png',\n",
       " '../Data/rotationver/2\\\\2_4_rotation_22.png',\n",
       " '../Data/rotationver/2\\\\2_4_rotation_23.png',\n",
       " '../Data/rotationver/2\\\\2_4_rotation_24.png',\n",
       " '../Data/rotationver/2\\\\2_4_rotation_25.png',\n",
       " '../Data/rotationver/2\\\\2_4_rotation_26.png',\n",
       " '../Data/rotationver/2\\\\2_4_rotation_27.png',\n",
       " '../Data/rotationver/2\\\\2_4_rotation_28.png',\n",
       " '../Data/rotationver/2\\\\2_4_rotation_29.png',\n",
       " '../Data/rotationver/2\\\\2_4_rotation_3.png',\n",
       " '../Data/rotationver/2\\\\2_4_rotation_30.png',\n",
       " '../Data/rotationver/2\\\\2_4_rotation_31.png',\n",
       " '../Data/rotationver/2\\\\2_4_rotation_4.png',\n",
       " '../Data/rotationver/2\\\\2_4_rotation_5.png',\n",
       " '../Data/rotationver/2\\\\2_4_rotation_6.png',\n",
       " '../Data/rotationver/2\\\\2_4_rotation_7.png',\n",
       " '../Data/rotationver/2\\\\2_4_rotation_8.png',\n",
       " '../Data/rotationver/2\\\\2_4_rotation_9.png',\n",
       " '../Data/rotationver/3\\\\3_4_rotation_1.png',\n",
       " '../Data/rotationver/3\\\\3_4_rotation_10.png',\n",
       " '../Data/rotationver/3\\\\3_4_rotation_11.png',\n",
       " '../Data/rotationver/3\\\\3_4_rotation_12.png',\n",
       " '../Data/rotationver/3\\\\3_4_rotation_13.png',\n",
       " '../Data/rotationver/3\\\\3_4_rotation_14.png',\n",
       " '../Data/rotationver/3\\\\3_4_rotation_15.png',\n",
       " '../Data/rotationver/3\\\\3_4_rotation_16.png',\n",
       " '../Data/rotationver/3\\\\3_4_rotation_17.png',\n",
       " '../Data/rotationver/3\\\\3_4_rotation_18.png',\n",
       " '../Data/rotationver/3\\\\3_4_rotation_19.png',\n",
       " '../Data/rotationver/3\\\\3_4_rotation_2.png',\n",
       " '../Data/rotationver/3\\\\3_4_rotation_20.png',\n",
       " '../Data/rotationver/3\\\\3_4_rotation_21.png',\n",
       " '../Data/rotationver/3\\\\3_4_rotation_22.png',\n",
       " '../Data/rotationver/3\\\\3_4_rotation_23.png',\n",
       " '../Data/rotationver/3\\\\3_4_rotation_24.png',\n",
       " '../Data/rotationver/3\\\\3_4_rotation_25.png',\n",
       " '../Data/rotationver/3\\\\3_4_rotation_26.png',\n",
       " '../Data/rotationver/3\\\\3_4_rotation_27.png',\n",
       " '../Data/rotationver/3\\\\3_4_rotation_28.png',\n",
       " '../Data/rotationver/3\\\\3_4_rotation_29.png',\n",
       " '../Data/rotationver/3\\\\3_4_rotation_3.png',\n",
       " '../Data/rotationver/3\\\\3_4_rotation_30.png',\n",
       " '../Data/rotationver/3\\\\3_4_rotation_31.png',\n",
       " '../Data/rotationver/3\\\\3_4_rotation_4.png',\n",
       " '../Data/rotationver/3\\\\3_4_rotation_5.png',\n",
       " '../Data/rotationver/3\\\\3_4_rotation_6.png',\n",
       " '../Data/rotationver/3\\\\3_4_rotation_7.png',\n",
       " '../Data/rotationver/3\\\\3_4_rotation_8.png',\n",
       " '../Data/rotationver/3\\\\3_4_rotation_9.png',\n",
       " '../Data/rotationver/4\\\\4_4_rotation_1.png',\n",
       " '../Data/rotationver/4\\\\4_4_rotation_10.png',\n",
       " '../Data/rotationver/4\\\\4_4_rotation_11.png',\n",
       " '../Data/rotationver/4\\\\4_4_rotation_12.png',\n",
       " '../Data/rotationver/4\\\\4_4_rotation_13.png',\n",
       " '../Data/rotationver/4\\\\4_4_rotation_14.png',\n",
       " '../Data/rotationver/4\\\\4_4_rotation_15.png',\n",
       " '../Data/rotationver/4\\\\4_4_rotation_16.png',\n",
       " '../Data/rotationver/4\\\\4_4_rotation_17.png',\n",
       " '../Data/rotationver/4\\\\4_4_rotation_18.png',\n",
       " '../Data/rotationver/4\\\\4_4_rotation_19.png',\n",
       " '../Data/rotationver/4\\\\4_4_rotation_2.png',\n",
       " '../Data/rotationver/4\\\\4_4_rotation_20.png',\n",
       " '../Data/rotationver/4\\\\4_4_rotation_21.png',\n",
       " '../Data/rotationver/4\\\\4_4_rotation_22.png',\n",
       " '../Data/rotationver/4\\\\4_4_rotation_23.png',\n",
       " '../Data/rotationver/4\\\\4_4_rotation_24.png',\n",
       " '../Data/rotationver/4\\\\4_4_rotation_25.png',\n",
       " '../Data/rotationver/4\\\\4_4_rotation_26.png',\n",
       " '../Data/rotationver/4\\\\4_4_rotation_27.png',\n",
       " '../Data/rotationver/4\\\\4_4_rotation_28.png',\n",
       " '../Data/rotationver/4\\\\4_4_rotation_29.png',\n",
       " '../Data/rotationver/4\\\\4_4_rotation_3.png',\n",
       " '../Data/rotationver/4\\\\4_4_rotation_30.png',\n",
       " '../Data/rotationver/4\\\\4_4_rotation_31.png',\n",
       " '../Data/rotationver/4\\\\4_4_rotation_4.png',\n",
       " '../Data/rotationver/4\\\\4_4_rotation_5.png',\n",
       " '../Data/rotationver/4\\\\4_4_rotation_6.png',\n",
       " '../Data/rotationver/4\\\\4_4_rotation_7.png',\n",
       " '../Data/rotationver/4\\\\4_4_rotation_8.png',\n",
       " '../Data/rotationver/4\\\\4_4_rotation_9.png',\n",
       " '../Data/rotationver/5\\\\5_4_rotation_1.png',\n",
       " '../Data/rotationver/5\\\\5_4_rotation_10.png',\n",
       " '../Data/rotationver/5\\\\5_4_rotation_11.png',\n",
       " '../Data/rotationver/5\\\\5_4_rotation_12.png',\n",
       " '../Data/rotationver/5\\\\5_4_rotation_13.png',\n",
       " '../Data/rotationver/5\\\\5_4_rotation_14.png',\n",
       " '../Data/rotationver/5\\\\5_4_rotation_15.png',\n",
       " '../Data/rotationver/5\\\\5_4_rotation_16.png',\n",
       " '../Data/rotationver/5\\\\5_4_rotation_17.png',\n",
       " '../Data/rotationver/5\\\\5_4_rotation_18.png',\n",
       " '../Data/rotationver/5\\\\5_4_rotation_19.png',\n",
       " '../Data/rotationver/5\\\\5_4_rotation_2.png',\n",
       " '../Data/rotationver/5\\\\5_4_rotation_20.png',\n",
       " '../Data/rotationver/5\\\\5_4_rotation_21.png',\n",
       " '../Data/rotationver/5\\\\5_4_rotation_22.png',\n",
       " '../Data/rotationver/5\\\\5_4_rotation_23.png',\n",
       " '../Data/rotationver/5\\\\5_4_rotation_24.png',\n",
       " '../Data/rotationver/5\\\\5_4_rotation_25.png',\n",
       " '../Data/rotationver/5\\\\5_4_rotation_26.png',\n",
       " '../Data/rotationver/5\\\\5_4_rotation_27.png',\n",
       " '../Data/rotationver/5\\\\5_4_rotation_28.png',\n",
       " '../Data/rotationver/5\\\\5_4_rotation_29.png',\n",
       " '../Data/rotationver/5\\\\5_4_rotation_3.png',\n",
       " '../Data/rotationver/5\\\\5_4_rotation_30.png',\n",
       " '../Data/rotationver/5\\\\5_4_rotation_31.png',\n",
       " '../Data/rotationver/5\\\\5_4_rotation_4.png',\n",
       " '../Data/rotationver/5\\\\5_4_rotation_5.png',\n",
       " '../Data/rotationver/5\\\\5_4_rotation_6.png',\n",
       " '../Data/rotationver/5\\\\5_4_rotation_7.png',\n",
       " '../Data/rotationver/5\\\\5_4_rotation_8.png',\n",
       " '../Data/rotationver/5\\\\5_4_rotation_9.png',\n",
       " '../Data/rotationver/6\\\\6_4_rotation_1.png',\n",
       " '../Data/rotationver/6\\\\6_4_rotation_10.png',\n",
       " '../Data/rotationver/6\\\\6_4_rotation_11.png',\n",
       " '../Data/rotationver/6\\\\6_4_rotation_12.png',\n",
       " '../Data/rotationver/6\\\\6_4_rotation_13.png',\n",
       " '../Data/rotationver/6\\\\6_4_rotation_14.png',\n",
       " '../Data/rotationver/6\\\\6_4_rotation_15.png',\n",
       " '../Data/rotationver/6\\\\6_4_rotation_16.png',\n",
       " '../Data/rotationver/6\\\\6_4_rotation_17.png',\n",
       " '../Data/rotationver/6\\\\6_4_rotation_18.png',\n",
       " '../Data/rotationver/6\\\\6_4_rotation_19.png',\n",
       " '../Data/rotationver/6\\\\6_4_rotation_2.png',\n",
       " '../Data/rotationver/6\\\\6_4_rotation_20.png',\n",
       " '../Data/rotationver/6\\\\6_4_rotation_21.png',\n",
       " '../Data/rotationver/6\\\\6_4_rotation_22.png',\n",
       " '../Data/rotationver/6\\\\6_4_rotation_23.png',\n",
       " '../Data/rotationver/6\\\\6_4_rotation_24.png',\n",
       " '../Data/rotationver/6\\\\6_4_rotation_25.png',\n",
       " '../Data/rotationver/6\\\\6_4_rotation_26.png',\n",
       " '../Data/rotationver/6\\\\6_4_rotation_27.png',\n",
       " '../Data/rotationver/6\\\\6_4_rotation_28.png',\n",
       " '../Data/rotationver/6\\\\6_4_rotation_29.png',\n",
       " '../Data/rotationver/6\\\\6_4_rotation_3.png',\n",
       " '../Data/rotationver/6\\\\6_4_rotation_30.png',\n",
       " '../Data/rotationver/6\\\\6_4_rotation_31.png',\n",
       " '../Data/rotationver/6\\\\6_4_rotation_4.png',\n",
       " '../Data/rotationver/6\\\\6_4_rotation_5.png',\n",
       " '../Data/rotationver/6\\\\6_4_rotation_6.png',\n",
       " '../Data/rotationver/6\\\\6_4_rotation_7.png',\n",
       " '../Data/rotationver/6\\\\6_4_rotation_8.png',\n",
       " '../Data/rotationver/6\\\\6_4_rotation_9.png',\n",
       " '../Data/rotationver/7\\\\7_4_rotation_1.png',\n",
       " '../Data/rotationver/7\\\\7_4_rotation_10.png',\n",
       " '../Data/rotationver/7\\\\7_4_rotation_11.png',\n",
       " '../Data/rotationver/7\\\\7_4_rotation_12.png',\n",
       " '../Data/rotationver/7\\\\7_4_rotation_13.png',\n",
       " '../Data/rotationver/7\\\\7_4_rotation_14.png',\n",
       " '../Data/rotationver/7\\\\7_4_rotation_15.png',\n",
       " '../Data/rotationver/7\\\\7_4_rotation_16.png',\n",
       " '../Data/rotationver/7\\\\7_4_rotation_17.png',\n",
       " '../Data/rotationver/7\\\\7_4_rotation_18.png',\n",
       " '../Data/rotationver/7\\\\7_4_rotation_19.png',\n",
       " '../Data/rotationver/7\\\\7_4_rotation_2.png',\n",
       " '../Data/rotationver/7\\\\7_4_rotation_20.png',\n",
       " '../Data/rotationver/7\\\\7_4_rotation_21.png',\n",
       " '../Data/rotationver/7\\\\7_4_rotation_22.png',\n",
       " '../Data/rotationver/7\\\\7_4_rotation_23.png',\n",
       " '../Data/rotationver/7\\\\7_4_rotation_24.png',\n",
       " '../Data/rotationver/7\\\\7_4_rotation_25.png',\n",
       " '../Data/rotationver/7\\\\7_4_rotation_26.png',\n",
       " '../Data/rotationver/7\\\\7_4_rotation_27.png',\n",
       " '../Data/rotationver/7\\\\7_4_rotation_28.png',\n",
       " '../Data/rotationver/7\\\\7_4_rotation_29.png',\n",
       " '../Data/rotationver/7\\\\7_4_rotation_3.png',\n",
       " '../Data/rotationver/7\\\\7_4_rotation_30.png',\n",
       " '../Data/rotationver/7\\\\7_4_rotation_31.png',\n",
       " '../Data/rotationver/7\\\\7_4_rotation_4.png',\n",
       " '../Data/rotationver/7\\\\7_4_rotation_5.png',\n",
       " '../Data/rotationver/7\\\\7_4_rotation_6.png',\n",
       " '../Data/rotationver/7\\\\7_4_rotation_7.png',\n",
       " '../Data/rotationver/7\\\\7_4_rotation_8.png',\n",
       " '../Data/rotationver/7\\\\7_4_rotation_9.png',\n",
       " '../Data/rotationver/8\\\\8_4_rotation_1.png',\n",
       " '../Data/rotationver/8\\\\8_4_rotation_10.png',\n",
       " '../Data/rotationver/8\\\\8_4_rotation_11.png',\n",
       " '../Data/rotationver/8\\\\8_4_rotation_12.png',\n",
       " '../Data/rotationver/8\\\\8_4_rotation_13.png',\n",
       " '../Data/rotationver/8\\\\8_4_rotation_14.png',\n",
       " '../Data/rotationver/8\\\\8_4_rotation_15.png',\n",
       " '../Data/rotationver/8\\\\8_4_rotation_16.png',\n",
       " '../Data/rotationver/8\\\\8_4_rotation_17.png',\n",
       " '../Data/rotationver/8\\\\8_4_rotation_18.png',\n",
       " '../Data/rotationver/8\\\\8_4_rotation_19.png',\n",
       " '../Data/rotationver/8\\\\8_4_rotation_2.png',\n",
       " '../Data/rotationver/8\\\\8_4_rotation_20.png',\n",
       " '../Data/rotationver/8\\\\8_4_rotation_21.png',\n",
       " '../Data/rotationver/8\\\\8_4_rotation_22.png',\n",
       " '../Data/rotationver/8\\\\8_4_rotation_23.png',\n",
       " '../Data/rotationver/8\\\\8_4_rotation_24.png',\n",
       " '../Data/rotationver/8\\\\8_4_rotation_25.png',\n",
       " '../Data/rotationver/8\\\\8_4_rotation_26.png',\n",
       " '../Data/rotationver/8\\\\8_4_rotation_27.png',\n",
       " '../Data/rotationver/8\\\\8_4_rotation_28.png',\n",
       " '../Data/rotationver/8\\\\8_4_rotation_29.png',\n",
       " '../Data/rotationver/8\\\\8_4_rotation_3.png',\n",
       " '../Data/rotationver/8\\\\8_4_rotation_30.png',\n",
       " '../Data/rotationver/8\\\\8_4_rotation_31.png',\n",
       " '../Data/rotationver/8\\\\8_4_rotation_4.png',\n",
       " '../Data/rotationver/8\\\\8_4_rotation_5.png',\n",
       " '../Data/rotationver/8\\\\8_4_rotation_6.png',\n",
       " '../Data/rotationver/8\\\\8_4_rotation_7.png',\n",
       " '../Data/rotationver/8\\\\8_4_rotation_8.png',\n",
       " '../Data/rotationver/8\\\\8_4_rotation_9.png',\n",
       " '../Data/rotationver/9\\\\9_4_rotation_1.png',\n",
       " '../Data/rotationver/9\\\\9_4_rotation_10.png',\n",
       " '../Data/rotationver/9\\\\9_4_rotation_11.png',\n",
       " '../Data/rotationver/9\\\\9_4_rotation_12.png',\n",
       " '../Data/rotationver/9\\\\9_4_rotation_13.png',\n",
       " '../Data/rotationver/9\\\\9_4_rotation_14.png',\n",
       " '../Data/rotationver/9\\\\9_4_rotation_15.png',\n",
       " '../Data/rotationver/9\\\\9_4_rotation_16.png',\n",
       " '../Data/rotationver/9\\\\9_4_rotation_17.png',\n",
       " '../Data/rotationver/9\\\\9_4_rotation_18.png',\n",
       " '../Data/rotationver/9\\\\9_4_rotation_19.png',\n",
       " '../Data/rotationver/9\\\\9_4_rotation_2.png',\n",
       " '../Data/rotationver/9\\\\9_4_rotation_20.png',\n",
       " '../Data/rotationver/9\\\\9_4_rotation_21.png',\n",
       " '../Data/rotationver/9\\\\9_4_rotation_22.png',\n",
       " '../Data/rotationver/9\\\\9_4_rotation_23.png',\n",
       " '../Data/rotationver/9\\\\9_4_rotation_24.png',\n",
       " '../Data/rotationver/9\\\\9_4_rotation_25.png',\n",
       " '../Data/rotationver/9\\\\9_4_rotation_26.png',\n",
       " '../Data/rotationver/9\\\\9_4_rotation_27.png',\n",
       " '../Data/rotationver/9\\\\9_4_rotation_28.png',\n",
       " '../Data/rotationver/9\\\\9_4_rotation_29.png',\n",
       " '../Data/rotationver/9\\\\9_4_rotation_3.png',\n",
       " '../Data/rotationver/9\\\\9_4_rotation_30.png',\n",
       " '../Data/rotationver/9\\\\9_4_rotation_31.png',\n",
       " '../Data/rotationver/9\\\\9_4_rotation_4.png',\n",
       " '../Data/rotationver/9\\\\9_4_rotation_5.png',\n",
       " '../Data/rotationver/9\\\\9_4_rotation_6.png',\n",
       " '../Data/rotationver/9\\\\9_4_rotation_7.png',\n",
       " '../Data/rotationver/9\\\\9_4_rotation_8.png',\n",
       " '../Data/rotationver/9\\\\9_4_rotation_9.png']"
      ]
     },
     "execution_count": 4,
     "metadata": {},
     "output_type": "execute_result"
    }
   ],
   "source": [
    "test_file"
   ]
  },
  {
   "cell_type": "code",
   "execution_count": 5,
   "metadata": {},
   "outputs": [
    {
     "data": {
      "text/plain": [
       "310"
      ]
     },
     "execution_count": 5,
     "metadata": {},
     "output_type": "execute_result"
    }
   ],
   "source": [
    "len(test_file)"
   ]
  },
  {
   "cell_type": "code",
   "execution_count": 6,
   "metadata": {},
   "outputs": [],
   "source": [
    "train_data = np.zeros((len(train_file), 400,400))\n",
    "count = 0\n",
    "\n",
    "for file in sorted(train_file):\n",
    "    # train_data[count,:,:] = cv2.imread(file,cv2.IMREAD_GRAYSCALE)\n",
    "    train_data[count,:,:] = cv2.imread(file,cv2.IMREAD_GRAYSCALE)\n",
    "    count+=1\n",
    "    \n",
    "test_data = np.zeros((len(test_file), 400,400))\n",
    "count = 0\n",
    "\n",
    "for file in sorted(test_file):\n",
    "    test_data[count,:,:] = cv2.imread(file,cv2.IMREAD_GRAYSCALE)\n",
    "    count+=1\n"
   ]
  },
  {
   "cell_type": "code",
   "execution_count": 7,
   "metadata": {},
   "outputs": [
    {
     "data": {
      "text/plain": [
       "(1550, 400, 400)"
      ]
     },
     "execution_count": 7,
     "metadata": {},
     "output_type": "execute_result"
    }
   ],
   "source": [
    "train_data.shape"
   ]
  },
  {
   "cell_type": "code",
   "execution_count": 8,
   "metadata": {},
   "outputs": [],
   "source": [
    "for i in range(1550):\n",
    "    temp_mean = train_data[i,train_data[i,:,:] > 0].mean()\n",
    "    train_data[i,train_data[i,:,:] > 0] = (train_data[i,train_data[i,:,:] > 0]/ temp_mean) * 150 / 255.0\n",
    "for i in range(310):\n",
    "    temp_mean = test_data[i,test_data[i,:,:] > 0].mean()\n",
    "    test_data[i] = (test_data[i]  / temp_mean) * 150 / 255.0"
   ]
  },
  {
   "cell_type": "code",
   "execution_count": 9,
   "metadata": {},
   "outputs": [
    {
     "data": {
      "text/plain": [
       "(35427,)"
      ]
     },
     "execution_count": 9,
     "metadata": {},
     "output_type": "execute_result"
    }
   ],
   "source": [
    "train_data[i,train_data[i,:,:] > 0].shape"
   ]
  },
  {
   "cell_type": "code",
   "execution_count": 10,
   "metadata": {},
   "outputs": [
    {
     "data": {
      "text/plain": [
       "(32163,)"
      ]
     },
     "execution_count": 10,
     "metadata": {},
     "output_type": "execute_result"
    }
   ],
   "source": [
    "test_data[i,test_data[i,:,:] > 0].shape"
   ]
  },
  {
   "cell_type": "code",
   "execution_count": 11,
   "metadata": {},
   "outputs": [
    {
     "data": {
      "text/plain": [
       "array([[0., 0., 0., ..., 0., 0., 0.],\n",
       "       [0., 0., 0., ..., 0., 0., 0.],\n",
       "       [0., 0., 0., ..., 0., 0., 0.],\n",
       "       ...,\n",
       "       [0., 0., 0., ..., 0., 0., 0.],\n",
       "       [0., 0., 0., ..., 0., 0., 0.],\n",
       "       [0., 0., 0., ..., 0., 0., 0.]])"
      ]
     },
     "execution_count": 11,
     "metadata": {},
     "output_type": "execute_result"
    }
   ],
   "source": [
    "train_data[0]"
   ]
  },
  {
   "cell_type": "code",
   "execution_count": 12,
   "metadata": {},
   "outputs": [
    {
     "name": "stdout",
     "output_type": "stream",
     "text": [
      "0.5882352941176477\n",
      "0.588235294117647\n"
     ]
    }
   ],
   "source": [
    "print(train_data[train_data > 0].mean())\n",
    "print(train_data[40,train_data[40,:,:] >0].mean())\n"
   ]
  },
  {
   "cell_type": "code",
   "execution_count": 13,
   "metadata": {},
   "outputs": [
    {
     "name": "stdout",
     "output_type": "stream",
     "text": [
      "0.5882352941176476\n",
      "nan\n"
     ]
    },
    {
     "name": "stderr",
     "output_type": "stream",
     "text": [
      "C:\\Users\\Public\\Documents\\ESTsoft\\CreatorTemp\\ipykernel_27216\\2959208502.py:2: RuntimeWarning: Mean of empty slice.\n",
      "  print(test_data[40,test_data[40,:,:] >= 100].mean())\n",
      "c:\\Users\\rlaxo\\anaconda3\\envs\\tensorflow\\lib\\site-packages\\numpy\\core\\_methods.py:190: RuntimeWarning: invalid value encountered in double_scalars\n",
      "  ret = ret.dtype.type(ret / rcount)\n"
     ]
    }
   ],
   "source": [
    "print(test_data[test_data > 0].mean())\n",
    "print(test_data[40,test_data[40,:,:] >= 100].mean())"
   ]
  },
  {
   "cell_type": "code",
   "execution_count": null,
   "metadata": {},
   "outputs": [],
   "source": []
  },
  {
   "cell_type": "code",
   "execution_count": 14,
   "metadata": {},
   "outputs": [],
   "source": [
    "train_target = np.zeros(155).astype(int)\n",
    "\n",
    "for i in range(1,10):\n",
    "    train_target = np.concatenate([train_target,np.full(155,i)])\n",
    "    \n",
    "test_target = np.zeros(31).astype(int)\n",
    "for i in range(1,10):\n",
    "    test_target = np.concatenate([test_target,np.full(31,i)])"
   ]
  },
  {
   "cell_type": "code",
   "execution_count": 15,
   "metadata": {},
   "outputs": [],
   "source": [
    "train_data = train_data.reshape(1550,400,400,-1)\n",
    "test_data = test_data.reshape(310,400,400,-1)"
   ]
  },
  {
   "cell_type": "code",
   "execution_count": 16,
   "metadata": {},
   "outputs": [
    {
     "data": {
      "text/plain": [
       "<matplotlib.image.AxesImage at 0x1963ca7aaf0>"
      ]
     },
     "execution_count": 16,
     "metadata": {},
     "output_type": "execute_result"
    },
    {
     "data": {
      "image/png": "[encoded data removed]",
      "text/plain": [
       "<Figure size 432x288 with 1 Axes>"
      ]
     },
     "metadata": {
      "needs_background": "light"
     },
     "output_type": "display_data"
    }
   ],
   "source": [
    "plt.imshow(train_data[0],cmap='gray')"
   ]
  },
  {
   "cell_type": "code",
   "execution_count": null,
   "metadata": {},
   "outputs": [],
   "source": []
  },
  {
   "cell_type": "code",
   "execution_count": 17,
   "metadata": {},
   "outputs": [
    {
     "data": {
      "text/plain": [
       "array([[[False],\n",
       "        [False],\n",
       "        [False],\n",
       "        ...,\n",
       "        [False],\n",
       "        [False],\n",
       "        [False]],\n",
       "\n",
       "       [[False],\n",
       "        [False],\n",
       "        [False],\n",
       "        ...,\n",
       "        [False],\n",
       "        [False],\n",
       "        [False]],\n",
       "\n",
       "       [[False],\n",
       "        [False],\n",
       "        [False],\n",
       "        ...,\n",
       "        [False],\n",
       "        [False],\n",
       "        [False]],\n",
       "\n",
       "       ...,\n",
       "\n",
       "       [[False],\n",
       "        [False],\n",
       "        [False],\n",
       "        ...,\n",
       "        [False],\n",
       "        [False],\n",
       "        [False]],\n",
       "\n",
       "       [[False],\n",
       "        [False],\n",
       "        [False],\n",
       "        ...,\n",
       "        [False],\n",
       "        [False],\n",
       "        [False]],\n",
       "\n",
       "       [[False],\n",
       "        [False],\n",
       "        [False],\n",
       "        ...,\n",
       "        [False],\n",
       "        [False],\n",
       "        [False]]])"
      ]
     },
     "execution_count": 17,
     "metadata": {},
     "output_type": "execute_result"
    }
   ],
   "source": [
    "(train_data[0,:,:] >= 50 )"
   ]
  },
  {
   "cell_type": "code",
   "execution_count": 18,
   "metadata": {},
   "outputs": [
    {
     "name": "stdout",
     "output_type": "stream",
     "text": [
      "float32\n"
     ]
    }
   ],
   "source": [
    "train_data = train_data.astype('float32')\n",
    "test_data = test_data.astype('float32')\n",
    "\n",
    "print(train_data.dtype)"
   ]
  },
  {
   "cell_type": "code",
   "execution_count": 19,
   "metadata": {},
   "outputs": [],
   "source": [
    "import tensorflow as tf\n",
    "from tensorflow import keras\n",
    "import keras.metrics\n",
    "model = keras.Sequential()\n",
    "model.add(\n",
    "    keras.layers.Conv2D(\n",
    "        32,\n",
    "        kernel_size = 3,\n",
    "        activation = 'relu',\n",
    "        padding = 'same',\n",
    "        input_shape = (400,400,1)\n",
    "    )\n",
    ")\n",
    "model.add(\n",
    "    keras.layers.MaxPool2D(2)\n",
    ")\n",
    "model.add(\n",
    "    keras.layers.Conv2D(\n",
    "        64,\n",
    "        kernel_size = 3,\n",
    "        activation = 'relu',\n",
    "        padding = 'same'\n",
    "    )\n",
    ")\n",
    "model.add(\n",
    "    keras.layers.MaxPool2D(2)\n",
    ")\n",
    "model.add(keras.layers.Flatten())\n",
    "model.add(keras.layers.Dense(128,activation='relu'))\n",
    "model.add(keras.layers.Dense(256,activation='relu'))\n",
    "model.add(keras.layers.Dense(10,activation = 'softmax'))\n",
    "\n",
    "\n"
   ]
  },
  {
   "cell_type": "code",
   "execution_count": 20,
   "metadata": {},
   "outputs": [
    {
     "name": "stdout",
     "output_type": "stream",
     "text": [
      "Model: \"sequential\"\n",
      "_________________________________________________________________\n",
      " Layer (type)                Output Shape              Param #   \n",
      "=================================================================\n",
      " conv2d (Conv2D)             (None, 400, 400, 32)      320       \n",
      "                                                                 \n",
      " max_pooling2d (MaxPooling2D  (None, 200, 200, 32)     0         \n",
      " )                                                               \n",
      "                                                                 \n",
      " conv2d_1 (Conv2D)           (None, 200, 200, 64)      18496     \n",
      "                                                                 \n",
      " max_pooling2d_1 (MaxPooling  (None, 100, 100, 64)     0         \n",
      " 2D)                                                             \n",
      "                                                                 \n",
      " flatten (Flatten)           (None, 640000)            0         \n",
      "                                                                 \n",
      " dense (Dense)               (None, 128)               81920128  \n",
      "                                                                 \n",
      " dense_1 (Dense)             (None, 256)               33024     \n",
      "                                                                 \n",
      " dense_2 (Dense)             (None, 10)                2570      \n",
      "                                                                 \n",
      "=================================================================\n",
      "Total params: 81,974,538\n",
      "Trainable params: 81,974,538\n",
      "Non-trainable params: 0\n",
      "_________________________________________________________________\n"
     ]
    }
   ],
   "source": [
    "model.summary()"
   ]
  },
  {
   "cell_type": "code",
   "execution_count": 21,
   "metadata": {},
   "outputs": [
    {
     "name": "stdout",
     "output_type": "stream",
     "text": [
      "Epoch 1/100\n",
      "97/97 [==============================] - 9s 69ms/step - loss: 0.8935 - accuracy: 0.7181 - val_loss: 0.3174 - val_accuracy: 0.9032\n",
      "Epoch 2/100\n",
      "97/97 [==============================] - 6s 60ms/step - loss: 0.0192 - accuracy: 0.9935 - val_loss: 0.1819 - val_accuracy: 0.9161\n",
      "Epoch 3/100\n",
      "97/97 [==============================] - 6s 59ms/step - loss: 1.4721e-04 - accuracy: 1.0000 - val_loss: 0.1554 - val_accuracy: 0.9355\n",
      "Epoch 4/100\n",
      "97/97 [==============================] - 6s 60ms/step - loss: 3.8335e-05 - accuracy: 1.0000 - val_loss: 0.1478 - val_accuracy: 0.9419\n",
      "Epoch 5/100\n",
      "97/97 [==============================] - 6s 60ms/step - loss: 2.0507e-05 - accuracy: 1.0000 - val_loss: 0.1402 - val_accuracy: 0.9452\n",
      "Epoch 6/100\n",
      "97/97 [==============================] - 6s 60ms/step - loss: 1.3130e-05 - accuracy: 1.0000 - val_loss: 0.1356 - val_accuracy: 0.9452\n",
      "Epoch 7/100\n",
      "97/97 [==============================] - 6s 60ms/step - loss: 9.1745e-06 - accuracy: 1.0000 - val_loss: 0.1284 - val_accuracy: 0.9516\n",
      "Epoch 8/100\n",
      "97/97 [==============================] - 6s 60ms/step - loss: 6.8691e-06 - accuracy: 1.0000 - val_loss: 0.1248 - val_accuracy: 0.9516\n",
      "Epoch 9/100\n",
      "97/97 [==============================] - 6s 60ms/step - loss: 4.9013e-06 - accuracy: 1.0000 - val_loss: 0.1197 - val_accuracy: 0.9516\n",
      "Epoch 10/100\n",
      "97/97 [==============================] - 6s 60ms/step - loss: 3.7966e-06 - accuracy: 1.0000 - val_loss: 0.1189 - val_accuracy: 0.9548\n",
      "Epoch 11/100\n",
      "97/97 [==============================] - 6s 60ms/step - loss: 3.0493e-06 - accuracy: 1.0000 - val_loss: 0.1160 - val_accuracy: 0.9548\n",
      "Epoch 12/100\n",
      "97/97 [==============================] - 6s 61ms/step - loss: 2.5145e-06 - accuracy: 1.0000 - val_loss: 0.1152 - val_accuracy: 0.9581\n",
      "Epoch 13/100\n",
      "97/97 [==============================] - 6s 61ms/step - loss: 2.1059e-06 - accuracy: 1.0000 - val_loss: 0.1114 - val_accuracy: 0.9581\n",
      "Epoch 14/100\n",
      "97/97 [==============================] - 6s 58ms/step - loss: 1.7872e-06 - accuracy: 1.0000 - val_loss: 0.1145 - val_accuracy: 0.9581\n",
      "Epoch 15/100\n",
      "97/97 [==============================] - 6s 59ms/step - loss: 1.5394e-06 - accuracy: 1.0000 - val_loss: 0.1116 - val_accuracy: 0.9581\n",
      "Epoch 16/100\n",
      "97/97 [==============================] - 6s 59ms/step - loss: 1.3296e-06 - accuracy: 1.0000 - val_loss: 0.1129 - val_accuracy: 0.9581\n",
      "Epoch 17/100\n",
      "97/97 [==============================] - 6s 61ms/step - loss: 1.1574e-06 - accuracy: 1.0000 - val_loss: 0.1100 - val_accuracy: 0.9613\n",
      "Epoch 18/100\n",
      "97/97 [==============================] - 6s 59ms/step - loss: 1.0202e-06 - accuracy: 1.0000 - val_loss: 0.1109 - val_accuracy: 0.9613\n",
      "Epoch 19/100\n",
      "97/97 [==============================] - 6s 59ms/step - loss: 9.0091e-07 - accuracy: 1.0000 - val_loss: 0.1105 - val_accuracy: 0.9613\n",
      "Epoch 20/100\n",
      "97/97 [==============================] - 6s 59ms/step - loss: 8.0001e-07 - accuracy: 1.0000 - val_loss: 0.1109 - val_accuracy: 0.9613\n",
      "Epoch 21/100\n",
      "97/97 [==============================] - 6s 59ms/step - loss: 7.1310e-07 - accuracy: 1.0000 - val_loss: 0.1114 - val_accuracy: 0.9613\n",
      "Epoch 22/100\n",
      "97/97 [==============================] - 6s 60ms/step - loss: 6.3881e-07 - accuracy: 1.0000 - val_loss: 0.1097 - val_accuracy: 0.9613\n",
      "Epoch 23/100\n",
      "97/97 [==============================] - 6s 59ms/step - loss: 5.7651e-07 - accuracy: 1.0000 - val_loss: 0.1115 - val_accuracy: 0.9613\n",
      "Epoch 24/100\n",
      "97/97 [==============================] - 6s 59ms/step - loss: 5.2167e-07 - accuracy: 1.0000 - val_loss: 0.1111 - val_accuracy: 0.9613\n",
      "Epoch 25/100\n",
      "97/97 [==============================] - 6s 59ms/step - loss: 4.7084e-07 - accuracy: 1.0000 - val_loss: 0.1117 - val_accuracy: 0.9613\n",
      "Epoch 26/100\n",
      "97/97 [==============================] - 6s 59ms/step - loss: 4.2854e-07 - accuracy: 1.0000 - val_loss: 0.1111 - val_accuracy: 0.9613\n",
      "Epoch 27/100\n",
      "97/97 [==============================] - 6s 59ms/step - loss: 3.9239e-07 - accuracy: 1.0000 - val_loss: 0.1128 - val_accuracy: 0.9581\n",
      "Epoch 28/100\n",
      "97/97 [==============================] - 6s 59ms/step - loss: 3.5786e-07 - accuracy: 1.0000 - val_loss: 0.1127 - val_accuracy: 0.9613\n",
      "Epoch 29/100\n",
      "97/97 [==============================] - 6s 59ms/step - loss: 3.2925e-07 - accuracy: 1.0000 - val_loss: 0.1125 - val_accuracy: 0.9613\n",
      "Epoch 30/100\n",
      "97/97 [==============================] - 6s 59ms/step - loss: 3.0325e-07 - accuracy: 1.0000 - val_loss: 0.1126 - val_accuracy: 0.9613\n",
      "Epoch 31/100\n",
      "97/97 [==============================] - 6s 59ms/step - loss: 2.8033e-07 - accuracy: 1.0000 - val_loss: 0.1122 - val_accuracy: 0.9613\n",
      "Epoch 32/100\n",
      "97/97 [==============================] - 6s 59ms/step - loss: 2.5888e-07 - accuracy: 1.0000 - val_loss: 0.1129 - val_accuracy: 0.9613\n"
     ]
    }
   ],
   "source": [
    "model.compile(optimizer='adam',loss = 'sparse_categorical_crossentropy',metrics = 'accuracy')\n",
    "checkpoint_cb = keras.callbacks.ModelCheckpoint(\"../Data/best_cnn_model_ASL.h5\")\n",
    "early_stopping_cb = keras.callbacks.EarlyStopping(patience=10, restore_best_weights=True) \n",
    "\n",
    "history = model.fit(\n",
    "    train_data, \n",
    "    train_target, \n",
    "    batch_size = 16,\n",
    "    epochs = 100,\n",
    "    validation_data = (test_data, test_target),  \n",
    "    callbacks = [checkpoint_cb, early_stopping_cb]\n",
    ")\n"
   ]
  },
  {
   "cell_type": "code",
   "execution_count": 22,
   "metadata": {},
   "outputs": [],
   "source": [
    "from PIL import Image\n",
    "import cv2"
   ]
  },
  {
   "cell_type": "code",
   "execution_count": 23,
   "metadata": {},
   "outputs": [],
   "source": [
    "X_test = np.zeros((10,400,400))\n",
    "for i in range(10):\n",
    "    test_img = cv2.imread(\"../Data/youngjin/%d_7.png\"%i,cv2.IMREAD_GRAYSCALE)\n",
    "    test_img = cv2.resize(test_img, (400,400))\n",
    "    res , th1 = cv2.threshold(test_img,100,255,cv2.THRESH_TOZERO)\n",
    "    \n",
    "    \n",
    "    X_test[i,:,:] = th1\n",
    "    \n",
    "    temp_mean = th1[th1>0].mean()\n",
    "    X_test[i] = (X_test[i]/temp_mean) * 150 / 255.0\n",
    "    "
   ]
  },
  {
   "cell_type": "code",
   "execution_count": 24,
   "metadata": {},
   "outputs": [],
   "source": [
    "import matplotlib.pyplot as plt"
   ]
  },
  {
   "cell_type": "code",
   "execution_count": 25,
   "metadata": {},
   "outputs": [
    {
     "data": {
      "text/plain": [
       "<matplotlib.image.AxesImage at 0x195a23baee0>"
      ]
     },
     "execution_count": 25,
     "metadata": {},
     "output_type": "execute_result"
    },
    {
     "data": {
      "image/png": "[encoded data removed]",
      "text/plain": [
       "<Figure size 432x288 with 1 Axes>"
      ]
     },
     "metadata": {
      "needs_background": "light"
     },
     "output_type": "display_data"
    }
   ],
   "source": [
    "plt.imshow(X_test[2])"
   ]
  },
  {
   "cell_type": "code",
   "execution_count": 26,
   "metadata": {},
   "outputs": [],
   "source": [
    "y_test = np.arange(10)\n",
    "X_test = X_test.reshape(10,400,400,1)"
   ]
  },
  {
   "cell_type": "code",
   "execution_count": 27,
   "metadata": {},
   "outputs": [],
   "source": [
    "pred = model.predict(X_test)"
   ]
  },
  {
   "cell_type": "code",
   "execution_count": 28,
   "metadata": {},
   "outputs": [
    {
     "name": "stdout",
     "output_type": "stream",
     "text": [
      "True\n",
      "False\n",
      "True\n",
      "True\n",
      "False\n",
      "True\n",
      "True\n",
      "True\n",
      "True\n",
      "False\n"
     ]
    }
   ],
   "source": [
    "for i in range(10):\n",
    "    print(pred[i].argmax() == y_test[i]) "
   ]
  },
  {
   "cell_type": "code",
   "execution_count": null,
   "metadata": {},
   "outputs": [],
   "source": []
  }
 ],
 "metadata": {
  "kernelspec": {
   "display_name": "Python 3.9.12 ('tensorflow')",
   "language": "python",
   "name": "python3"
  },
  "language_info": {
   "codemirror_mode": {
    "name": "ipython",
    "version": 3
   },
   "file_extension": ".py",
   "mimetype": "text/x-python",
   "name": "python",
   "nbconvert_exporter": "python",
   "pygments_lexer": "ipython3",
   "version": "3.9.12"
  },
  "orig_nbformat": 4,
  "vscode": {
   "interpreter": {
    "hash": "b0d05c79fff6fd84814a86b270f24f3e0eca4825ad55d10bdd05ab6c8bb0a024"
   }
  }
 },
 "nbformat": 4,
 "nbformat_minor": 2
}
